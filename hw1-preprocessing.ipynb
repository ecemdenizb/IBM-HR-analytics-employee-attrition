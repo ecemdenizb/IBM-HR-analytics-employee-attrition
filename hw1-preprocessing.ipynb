{
 "cells": [
  {
   "cell_type": "code",
   "execution_count": 1,
   "id": "6c84aadc-f7c2-4b2c-88a9-c594e50dcf69",
   "metadata": {},
   "outputs": [],
   "source": [
    "import pandas as pd\n",
    "import numpy as np\n",
    "\n",
    "from sklearn import preprocessing\n",
    "from sklearn.model_selection import train_test_split\n",
    "from sklearn.pipeline import Pipeline\n",
    "from sklearn.base import BaseEstimator, TransformerMixin\n",
    "from sklearn.preprocessing import FunctionTransformer\n",
    "from sklearn.model_selection import train_test_split\n",
    "\n",
    "import pickle"
   ]
  },
  {
   "cell_type": "code",
   "execution_count": 2,
   "id": "699db4c8-f0b2-46b3-ae48-6cac1c684603",
   "metadata": {},
   "outputs": [],
   "source": [
    "class FeatureEncoder(BaseEstimator, TransformerMixin):\n",
    "    def fit(self, X, y=None):\n",
    "        return self\n",
    "    \n",
    "    def transform(self, X):\n",
    "        label_encoded_df=X.copy()\n",
    "        le = preprocessing.LabelEncoder()\n",
    "        for col in label_encoded_df.select_dtypes(include=['object']).columns:\n",
    "            label_encoded_df[col]=le.fit_transform(label_encoded_df[col])\n",
    "        return label_encoded_df\n",
    "            \n",
    "class FeatureSelector(BaseEstimator, TransformerMixin):\n",
    "    def fit(self, X, y=None):\n",
    "        return self\n",
    "    \n",
    "    def transform(self, X):\n",
    "        X=X.drop(['StandardHours', 'EmployeeCount', 'Over18'],axis=1)\n",
    "        return X\n",
    "\n",
    "class shuffle(BaseEstimator, TransformerMixin):\n",
    "    def fit(self, X, y=None):\n",
    "        return self\n",
    "    \n",
    "    def transform(self, X):\n",
    "        X=X.sample(frac=1, random_state=12345).reset_index()\n",
    "        return X\n",
    "    \n",
    "pipe=Pipeline([\n",
    "    (\"encoder\", FeatureEncoder()),\n",
    "    (\"selector\", FeatureSelector()),\n",
    "    (\"shuffler\", shuffle())\n",
    "])\n",
    "\n",
    "class data_preparing:\n",
    "    def __init__(self,x, pipe):\n",
    "        self.x=x\n",
    "        self.pipe=pipe\n",
    "    \n",
    "    def encode_select(self):\n",
    "        x_dummy=pipe.fit_transform(self.x)\n",
    "        y=x_dummy.loc[:,'Attrition']\n",
    "        x=x_dummy.drop('Attrition',axis=1)\n",
    "        return x,y\n",
    "    \n",
    "    def scale(self, x):\n",
    "        scaler=preprocessing.StandardScaler()\n",
    "        x=scaler.fit_transform(x)\n",
    "        return x\n",
    "            \n",
    "        \n",
    "        "
   ]
  },
  {
   "cell_type": "code",
   "execution_count": 3,
   "id": "30a343ec-70fa-44d1-8a24-e552f191a628",
   "metadata": {},
   "outputs": [],
   "source": [
    "path=\"/Users/ecemdenizbabaoglan/Downloads/WA_Fn-UseC_-HR-Employee-Attrition.csv\"\n",
    "ds=pd.read_csv(path)\n"
   ]
  },
  {
   "cell_type": "code",
   "execution_count": 4,
   "id": "2afdc5db-8eb4-4915-9f09-69b59317f968",
   "metadata": {},
   "outputs": [],
   "source": [
    "data=data_preparing(ds,pipe)\n",
    "data.x, data.y=data.encode_select()\n"
   ]
  },
  {
   "cell_type": "code",
   "execution_count": 5,
   "id": "eba07095-dd6b-4698-92b2-d44897e7de0b",
   "metadata": {},
   "outputs": [],
   "source": [
    "data.x=data.scale(data.x)"
   ]
  },
  {
   "cell_type": "code",
   "execution_count": 6,
   "id": "e1e65ca7-df9e-4a16-9488-f399e70f7758",
   "metadata": {},
   "outputs": [],
   "source": [
    "with open('preprocessing.pickle','wb') as f:\n",
    "    pickle.dump(data, f)\n",
    "    "
   ]
  },
  {
   "cell_type": "code",
   "execution_count": null,
   "id": "c576ce3e-f15b-42c3-9701-a7888659b36c",
   "metadata": {},
   "outputs": [],
   "source": []
  }
 ],
 "metadata": {
  "kernelspec": {
   "display_name": "Python [conda env:py38]",
   "language": "python",
   "name": "conda-env-py38-py"
  },
  "language_info": {
   "codemirror_mode": {
    "name": "ipython",
    "version": 3
   },
   "file_extension": ".py",
   "mimetype": "text/x-python",
   "name": "python",
   "nbconvert_exporter": "python",
   "pygments_lexer": "ipython3",
   "version": "3.8.13"
  }
 },
 "nbformat": 4,
 "nbformat_minor": 5
}
