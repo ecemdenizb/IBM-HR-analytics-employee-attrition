{
 "cells": [
  {
   "cell_type": "code",
   "execution_count": 1,
   "id": "e98167b6-561a-4f8f-9ed8-bade78a217c9",
   "metadata": {},
   "outputs": [],
   "source": [
    "#!pip install numpy\n",
    "#!pip install pandas\n",
    "#!conda install scikit-learn -y\n"
   ]
  },
  {
   "cell_type": "code",
   "execution_count": 2,
   "id": "3672f4bd-99a3-4177-9612-5feb155ca1de",
   "metadata": {},
   "outputs": [],
   "source": [
    "import pandas as pd\n",
    "import numpy as np\n",
    "\n",
    "from sklearn import preprocessing\n",
    "from sklearn.model_selection import train_test_split\n",
    "from sklearn.pipeline import Pipeline\n",
    "from sklearn.base import BaseEstimator, TransformerMixin\n",
    "from sklearn.preprocessing import FunctionTransformer"
   ]
  },
  {
   "cell_type": "code",
   "execution_count": 3,
   "id": "0bbe19b6-bf18-44a7-9211-7e0a7956afe3",
   "metadata": {},
   "outputs": [],
   "source": [
    "path=\"/Users/ecemdenizbabaoglan/Downloads/WA_Fn-UseC_-HR-Employee-Attrition.csv\""
   ]
  },
  {
   "cell_type": "code",
   "execution_count": 4,
   "id": "3e74d759-0840-439f-acd9-113ad08ebd7a",
   "metadata": {},
   "outputs": [],
   "source": [
    "pd.set_option(\"display.max_rows\", None,\n",
    "             \"display.max_columns\", None)"
   ]
  },
  {
   "cell_type": "code",
   "execution_count": 5,
   "id": "30e9b9fa-2c4f-4b4e-8782-3851a4ce4ed5",
   "metadata": {},
   "outputs": [],
   "source": [
    "ds=pd.read_csv(path)"
   ]
  },
  {
   "cell_type": "code",
   "execution_count": 6,
   "id": "1578a5e5-f95b-4aca-a4f9-d8946326adcd",
   "metadata": {},
   "outputs": [],
   "source": [
    "class FeatureEncoder(BaseEstimator, TransformerMixin):\n",
    "    def fit(self, X, y=None):\n",
    "        return self\n",
    "    \n",
    "    def transform(self, X):\n",
    "        label_encoded_df=X.copy()\n",
    "        le = preprocessing.LabelEncoder()\n",
    "        for col in label_encoded_df.select_dtypes(include=['object']).columns:\n",
    "            label_encoded_df[col]=le.fit_transform(label_encoded_df[col])\n",
    "        return label_encoded_df\n",
    "            \n",
    "class FeatureSelector(BaseEstimator, TransformerMixin):\n",
    "    def fit(self, X, y=None):\n",
    "        return self\n",
    "    \n",
    "    def transform(self, X):\n",
    "        X=X.drop(['Attrition', 'StandardHours', 'EmployeeCount', 'Over18'],axis=1)\n",
    "        return X\n",
    "\n",
    "    \n",
    "class FeatureScaler(BaseEstimator, TransformerMixin):\n",
    "    def fit(self, X, y=None):\n",
    "        return self\n",
    "    \n",
    "    def transform(self, X):\n",
    "        scaler=preprocessing.StandardScaler()\n",
    "        scaled_df=scaler.fit_transform(X)\n",
    "        return scaled_df\n",
    "\n",
    "#def extract_target(df):\n",
    "#        target= df.loc[:,'Attrition']\n",
    "#        return df\n",
    "\n"
   ]
  },
  {
   "cell_type": "code",
   "execution_count": 7,
   "id": "ab61c18b-1276-4539-a721-34b76f7c751a",
   "metadata": {},
   "outputs": [],
   "source": [
    "#get_target=FunctionTransformer(extract_target, validate=False)"
   ]
  },
  {
   "cell_type": "code",
   "execution_count": 8,
   "id": "ce9f44a5-8acc-42b5-ba49-ad08eb965a89",
   "metadata": {},
   "outputs": [],
   "source": [
    "#class get_target(BaseEstimator, TransformerMixin):\n",
    "#    def fit(self, X, y=None):\n",
    "#        return self\n",
    "    \n",
    "#    def transform(self, X):\n",
    "#        target= X.loc[:,'Attrition']\n",
    "#        return X, target"
   ]
  },
  {
   "cell_type": "code",
   "execution_count": 9,
   "id": "ee3ba06b-0a0a-4440-81b8-295c3322e2dd",
   "metadata": {},
   "outputs": [],
   "source": [
    "pipe=Pipeline([\n",
    "    (\"encoder\", FeatureEncoder()),\n",
    "    (\"selector\", FeatureSelector()),\n",
    "    (\"scaler\", FeatureScaler())\n",
    "])"
   ]
  },
  {
   "cell_type": "code",
   "execution_count": 10,
   "id": "edfd7278-dff0-41c5-83ea-794a7c10e44c",
   "metadata": {},
   "outputs": [
    {
     "data": {
      "text/plain": [
       "array([[ 0.4463504 ,  0.59004834,  0.74252653, ..., -0.0632959 ,\n",
       "        -0.67914568,  0.24583399],\n",
       "       [ 1.32236521, -0.91319439, -1.2977746 , ...,  0.76499762,\n",
       "        -0.36871529,  0.80654148],\n",
       "       [ 0.008343  ,  0.59004834,  1.41436324, ..., -1.16768726,\n",
       "        -0.67914568, -1.15593471],\n",
       "       ...,\n",
       "       [-1.08667552,  0.59004834, -1.60518328, ..., -0.61549158,\n",
       "        -0.67914568, -0.31487349],\n",
       "       [ 1.32236521, -0.91319439,  0.54667746, ...,  0.48889978,\n",
       "        -0.67914568,  1.08689522],\n",
       "       [-0.32016256,  0.59004834, -0.43256792, ..., -0.33939374,\n",
       "        -0.36871529, -0.59522723]])"
      ]
     },
     "execution_count": 10,
     "metadata": {},
     "output_type": "execute_result"
    }
   ],
   "source": [
    "pipe.fit_transform(ds)"
   ]
  },
  {
   "cell_type": "code",
   "execution_count": null,
   "id": "fab33644-2869-42cd-8ebe-08111cb567d6",
   "metadata": {},
   "outputs": [],
   "source": []
  },
  {
   "cell_type": "code",
   "execution_count": null,
   "id": "794c90a4-f507-470a-a23f-92312f8fe318",
   "metadata": {},
   "outputs": [],
   "source": []
  }
 ],
 "metadata": {
  "kernelspec": {
   "display_name": "py38",
   "language": "python",
   "name": "py38"
  },
  "language_info": {
   "codemirror_mode": {
    "name": "ipython",
    "version": 3
   },
   "file_extension": ".py",
   "mimetype": "text/x-python",
   "name": "python",
   "nbconvert_exporter": "python",
   "pygments_lexer": "ipython3",
   "version": "3.8.13"
  }
 },
 "nbformat": 4,
 "nbformat_minor": 5
}
