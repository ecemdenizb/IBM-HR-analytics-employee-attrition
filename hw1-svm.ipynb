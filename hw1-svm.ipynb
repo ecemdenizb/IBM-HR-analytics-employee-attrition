{
 "cells": [
  {
   "cell_type": "code",
   "execution_count": 1,
   "id": "5a405f0e-9a44-41cd-b283-46c128551d44",
   "metadata": {},
   "outputs": [],
   "source": [
    "import pandas as pd\n",
    "import numpy as np\n",
    "\n",
    "from sklearn import preprocessing\n",
    "from sklearn.model_selection import train_test_split\n",
    "from sklearn.pipeline import Pipeline\n",
    "from sklearn.base import BaseEstimator, TransformerMixin\n",
    "from sklearn.preprocessing import FunctionTransformer\n",
    "from sklearn.model_selection import KFold\n",
    "from sklearn.model_selection import cross_validate\n",
    "from sklearn.linear_model import LogisticRegression\n",
    "from sklearn import svm\n",
    "from sklearn.ensemble import RandomForestClassifier\n",
    "\n",
    "import pickle\n"
   ]
  },
  {
   "cell_type": "code",
   "execution_count": 2,
   "id": "baa11cee-0b6e-4d11-a3ff-2593e2b92ab3",
   "metadata": {},
   "outputs": [],
   "source": [
    "class FeatureEncoder(BaseEstimator, TransformerMixin):\n",
    "    def fit(self, X, y=None):\n",
    "        return self\n",
    "    \n",
    "    def transform(self, X):\n",
    "        label_encoded_df=X.copy()\n",
    "        le = preprocessing.LabelEncoder()\n",
    "        for col in label_encoded_df.select_dtypes(include=['object']).columns:\n",
    "            label_encoded_df[col]=le.fit_transform(label_encoded_df[col])\n",
    "        return label_encoded_df\n",
    "            \n",
    "class FeatureSelector(BaseEstimator, TransformerMixin):\n",
    "    def fit(self, X, y=None):\n",
    "        return self\n",
    "    \n",
    "    def transform(self, X):\n",
    "        X=X.drop(['StandardHours', 'EmployeeCount', 'Over18'],axis=1)\n",
    "        return X\n",
    "\n",
    "class shuffle(BaseEstimator, TransformerMixin):\n",
    "    def fit(self, X, y=None):\n",
    "        return self\n",
    "    \n",
    "    def transform(self, X):\n",
    "        X=X.sample(frac=1, random_state=12345).reset_index()\n",
    "        return X\n",
    "    \n",
    "pipe=Pipeline([\n",
    "    (\"encoder\", FeatureEncoder()),\n",
    "    (\"selector\", FeatureSelector()),\n",
    "    (\"shuffler\", shuffle())\n",
    "])\n",
    "\n",
    "class data_preparing:\n",
    "    def __init__(self,x, pipe):\n",
    "        self.x=x\n",
    "        self.pipe=pipe\n",
    "    \n",
    "    def encode_select(self):\n",
    "        x_dummy=pipe.fit_transform(self.x)\n",
    "        y=x_dummy.loc[:,'Attrition']\n",
    "        x=x_dummy.drop('Attrition',axis=1)\n",
    "        return x,y\n",
    "    \n",
    "    def scale(self, x):\n",
    "        scaler=preprocessing.StandardScaler()\n",
    "        x=scaler.fit_transform(x)\n",
    "        return x\n",
    "            \n",
    "     "
   ]
  },
  {
   "cell_type": "code",
   "execution_count": 3,
   "id": "41d84907-894a-4238-97bf-950aa152dbe1",
   "metadata": {},
   "outputs": [],
   "source": [
    "SEED=12345"
   ]
  },
  {
   "cell_type": "code",
   "execution_count": 4,
   "id": "e6b75a51-1ac9-4409-af7d-ac1775dbe62b",
   "metadata": {},
   "outputs": [],
   "source": [
    "with open('preprocessing.pickle', 'rb') as f:\n",
    "    data=pickle.load(f)"
   ]
  },
  {
   "cell_type": "code",
   "execution_count": 5,
   "id": "11bf85fa-2b4b-4151-a0ed-041e6c029817",
   "metadata": {},
   "outputs": [
    {
     "name": "stdout",
     "output_type": "stream",
     "text": [
      "1176 147 147\n"
     ]
    }
   ],
   "source": [
    "#Train %80, test=%10, val=%10  \n",
    "train_ratio = 0.8\n",
    "validation_ratio = 0.1\n",
    "test_ratio = 0.1\n",
    "\n",
    "\n",
    "# train is now 75% of the entire data set\n",
    "# the _junk suffix means that we drop that variable completely\n",
    "x_train, x_test, y_train, y_test = train_test_split(data.x, data.y, test_size=1 - train_ratio)\n",
    "\n",
    "# test is now 10% of the initial data set\n",
    "# validation is now 15% of the initial data set\n",
    "x_val, x_test, y_val, y_test = train_test_split(x_test, y_test, test_size=test_ratio/(test_ratio + validation_ratio)) \n",
    "\n",
    "print(len(x_train), len(x_val), len(x_test))"
   ]
  },
  {
   "cell_type": "code",
   "execution_count": 6,
   "id": "1add61ef-5dcd-45d2-a9f7-d90c0ec8bdbb",
   "metadata": {},
   "outputs": [],
   "source": [
    "#model_svm = svm.SVC(kernel='linear')"
   ]
  },
  {
   "cell_type": "code",
   "execution_count": 7,
   "id": "cc52cc4b-f2b3-41c5-b015-aaeee330c1c4",
   "metadata": {},
   "outputs": [],
   "source": [
    "model_rf=RandomForestClassifier()"
   ]
  },
  {
   "cell_type": "code",
   "execution_count": 8,
   "id": "862af5e0-ba5b-4cd5-9a73-8bfb0ff79bb2",
   "metadata": {},
   "outputs": [],
   "source": [
    "cv=KFold(n_splits=5, shuffle=True, random_state=SEED)"
   ]
  },
  {
   "cell_type": "code",
   "execution_count": 9,
   "id": "ffede0a8-53e9-497d-bb9d-257504a1009a",
   "metadata": {},
   "outputs": [
    {
     "name": "stdout",
     "output_type": "stream",
     "text": [
      "(1323, 32) (1323,)\n",
      "(1176, 32)\n",
      "(147, 32)\n"
     ]
    }
   ],
   "source": [
    "x=np.append(x_train, x_val,axis=0)\n",
    "y=np.append(y_train, y_val,axis=0)\n",
    "print(x.shape, y.shape)\n",
    "print(x_train.shape)\n",
    "print(x_val.shape)"
   ]
  },
  {
   "cell_type": "code",
   "execution_count": 10,
   "id": "3bfa30d1-da5a-4a53-8452-b16c594f54f2",
   "metadata": {},
   "outputs": [],
   "source": [
    "scores=cross_validate(model_rf, x, y, scoring=[\"accuracy\",\"f1\", \"precision\",\"recall\"], cv=cv)"
   ]
  },
  {
   "cell_type": "code",
   "execution_count": 11,
   "id": "5a49c52b-b963-4444-9320-f12b4fe3d901",
   "metadata": {},
   "outputs": [
    {
     "name": "stdout",
     "output_type": "stream",
     "text": [
      "{'fit_time': array([0.12798691, 0.11199284, 0.11563802, 0.11419106, 0.11332798]), 'score_time': array([0.00539589, 0.00515819, 0.00538182, 0.00513577, 0.00514913]), 'test_accuracy': array([0.84150943, 0.86792453, 0.86037736, 0.8219697 , 0.85606061]), 'test_f1': array([0.16      , 0.18604651, 0.2745098 , 0.1754386 , 0.24      ]), 'test_precision': array([0.57142857, 1.        , 0.875     , 0.55555556, 0.54545455]), 'test_recall': array([0.09302326, 0.1025641 , 0.1627907 , 0.10416667, 0.15384615])}\n"
     ]
    }
   ],
   "source": [
    "print(scores)"
   ]
  }
 ],
 "metadata": {
  "kernelspec": {
   "display_name": "py38",
   "language": "python",
   "name": "py38"
  },
  "language_info": {
   "codemirror_mode": {
    "name": "ipython",
    "version": 3
   },
   "file_extension": ".py",
   "mimetype": "text/x-python",
   "name": "python",
   "nbconvert_exporter": "python",
   "pygments_lexer": "ipython3",
   "version": "3.8.13"
  }
 },
 "nbformat": 4,
 "nbformat_minor": 5
}
