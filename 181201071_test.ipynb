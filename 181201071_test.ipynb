{
 "cells": [
  {
   "cell_type": "code",
   "execution_count": 1,
   "id": "8c2df6a8-4027-445c-ab54-e76a6a904b61",
   "metadata": {},
   "outputs": [],
   "source": [
    "import pandas as pd\n",
    "import numpy as np\n",
    "\n",
    "from matplotlib import pyplot as plt\n",
    "import seaborn as sns \n",
    "\n",
    "from sklearn import preprocessing\n",
    "from sklearn.model_selection import train_test_split\n",
    "from sklearn.pipeline import Pipeline\n",
    "from sklearn.base import BaseEstimator, TransformerMixin\n",
    "from sklearn.preprocessing import FunctionTransformer\n",
    "from sklearn.model_selection import KFold\n",
    "from sklearn.model_selection import cross_validate\n",
    "from sklearn.linear_model import LogisticRegression\n",
    "from sklearn import svm\n",
    "from sklearn.ensemble import RandomForestClassifier\n",
    "from sklearn.metrics import precision_score, recall_score, f1_score, accuracy_score\n",
    "from sklearn.feature_selection import SelectKBest, f_regression\n",
    "\n",
    "import pickle\n",
    "\n",
    "import warnings\n"
   ]
  },
  {
   "cell_type": "code",
   "execution_count": 2,
   "id": "9a6fd1e8-c331-48cb-967d-edf19a2e4713",
   "metadata": {},
   "outputs": [],
   "source": [
    "warnings.filterwarnings('ignore')"
   ]
  },
  {
   "cell_type": "code",
   "execution_count": 3,
   "id": "cfc6e482-1709-46dc-b3f1-3559c2bbcc53",
   "metadata": {},
   "outputs": [],
   "source": [
    "class FeatureEncoder(BaseEstimator, TransformerMixin):\n",
    "    def fit(self, X, y=None):\n",
    "        return self\n",
    "    \n",
    "    def transform(self, X):\n",
    "        label_encoded_df=X.copy()\n",
    "        le = preprocessing.LabelEncoder()\n",
    "        for col in label_encoded_df.select_dtypes(include=['object']).columns:\n",
    "            label_encoded_df[col]=le.fit_transform(label_encoded_df[col])\n",
    "        return label_encoded_df\n",
    "            \n",
    "class FeatureSelector(BaseEstimator, TransformerMixin):\n",
    "    def fit(self, X, y=None):\n",
    "        return self\n",
    "    \n",
    "    def transform(self, X):\n",
    "        X=X.drop(['StandardHours', 'EmployeeCount', 'Over18'],axis=1)\n",
    "        return X\n",
    "\n",
    "class shuffle(BaseEstimator, TransformerMixin):\n",
    "    def fit(self, X, y=None):\n",
    "        return self\n",
    "    \n",
    "    def transform(self, X):\n",
    "        X=X.sample(frac=1, random_state=12345).reset_index()\n",
    "        return X\n",
    "    \n",
    "pipe=Pipeline([\n",
    "    (\"encoder\", FeatureEncoder()),\n",
    "    (\"selector\", FeatureSelector()),\n",
    "    (\"shuffler\", shuffle())\n",
    "])\n",
    "\n",
    "class data_preparing:\n",
    "    def __init__(self,x, pipe):\n",
    "        self.x=x\n",
    "        self.pipe=pipe\n",
    "    \n",
    "    def encode_select(self):\n",
    "        x_dummy=pipe.fit_transform(self.x)\n",
    "        y=x_dummy.loc[:,'Attrition']\n",
    "        x=x_dummy.drop('Attrition',axis=1)\n",
    "        return x,y\n",
    "    \n",
    "    def scale(self, x):\n",
    "        scaler=preprocessing.StandardScaler()\n",
    "        x=scaler.fit_transform(x)\n",
    "        return x\n",
    "            \n",
    "     "
   ]
  },
  {
   "cell_type": "code",
   "execution_count": 4,
   "id": "1e240a12-5a28-46fc-bd98-0d430d99ebcc",
   "metadata": {},
   "outputs": [],
   "source": [
    "class best_model:\n",
    "    def __init__(self):\n",
    "        return self\n",
    "    \n",
    "    def cr_model():\n",
    "        model=svm.SVC(kernel='linear')\n",
    "        return model\n",
    "\n"
   ]
  },
  {
   "cell_type": "code",
   "execution_count": 5,
   "id": "a892cba5-8b36-4ba6-8928-a7bb3f49e2e2",
   "metadata": {},
   "outputs": [],
   "source": [
    "def print_cv_scores(scores):\n",
    "    print(\"Fit Time : \", scores['fit_time'],\" mean= \",(sum(scores['fit_time']))/5)\n",
    "    print(\"Score Time : \", scores['score_time'],\" mean= \",(sum(scores['score_time']))/5)\n",
    "    print(\"Test Accuracy : \",scores['test_accuracy'], \" mean= \",(sum(scores['test_accuracy']))/5)\n",
    "    print(\"F1 Score : \", scores['test_f1'],\" mean= \",(sum(scores['test_f1']))/5)\n",
    "    print(\"Test Precision : \", scores['test_precision'],\" mean= \",(sum(scores['test_precision']))/5)\n",
    "    print(\"Test Recall : \", scores['test_recall'],\" mean= \",(sum(scores['test_recall']))/5)"
   ]
  },
  {
   "cell_type": "code",
   "execution_count": 6,
   "id": "92b062a8-1ad1-423b-8472-c96465a3fec7",
   "metadata": {},
   "outputs": [],
   "source": [
    "def print_fit_scores(y_true, y_pred):\n",
    "    print(\"Test Accuracy : \", accuracy_score(y_true, y_pred))\n",
    "    print(\"F1 Score : \", f1_score(y_true, y_pred))\n",
    "    print(\"Test Precision : \", precision_score(y_true, y_pred))\n",
    "    print(\"Test Recall : \", recall_score(y_true, y_pred))\n",
    "    "
   ]
  },
  {
   "cell_type": "code",
   "execution_count": 7,
   "id": "09570937-3dbf-4f77-9fa8-4cb0e634370f",
   "metadata": {},
   "outputs": [],
   "source": [
    "with open('preprocessing.pickle', 'rb') as f:\n",
    "    data=pickle.load(f)"
   ]
  },
  {
   "cell_type": "code",
   "execution_count": 8,
   "id": "6ccbd379-971a-41ed-9c1d-e3585c93333d",
   "metadata": {},
   "outputs": [],
   "source": [
    "with open('model.pickle', 'rb') as f:\n",
    "    model=pickle.load(f)"
   ]
  },
  {
   "cell_type": "code",
   "execution_count": 9,
   "id": "451e6065-2b37-4f03-88db-765e52158572",
   "metadata": {},
   "outputs": [],
   "source": [
    "#Train %80, test=%20 \n",
    "train_ratio = 0.8\n",
    "test_ratio = 0.2\n",
    "#validation_ratio = 0.1\n",
    "#test_ratio = 0.1\n",
    "\n",
    "x_train, x_test, y_train, y_test = train_test_split(data.x, data.y, test_size=1 - train_ratio)\n"
   ]
  },
  {
   "cell_type": "code",
   "execution_count": 10,
   "id": "7967b45d-50af-4675-8589-6fe078d9da43",
   "metadata": {},
   "outputs": [],
   "source": [
    "y_pred_svm=model.predict(x_test)"
   ]
  },
  {
   "cell_type": "code",
   "execution_count": 11,
   "id": "ffe3cb1d-dd25-4817-81ef-e0dd69b50d74",
   "metadata": {},
   "outputs": [
    {
     "name": "stdout",
     "output_type": "stream",
     "text": [
      "Test Accuracy :  0.8503401360544217\n",
      "F1 Score :  0.4054054054054055\n",
      "Test Precision :  0.75\n",
      "Test Recall :  0.2777777777777778\n"
     ]
    }
   ],
   "source": [
    "print_fit_scores(y_test,y_pred_svm)"
   ]
  },
  {
   "cell_type": "code",
   "execution_count": null,
   "id": "1800db24-ac26-4b43-9de4-434009ab96c3",
   "metadata": {},
   "outputs": [],
   "source": []
  },
  {
   "cell_type": "code",
   "execution_count": null,
   "id": "9bdaad3a-eace-4d92-97c7-dc0566fd8afc",
   "metadata": {},
   "outputs": [],
   "source": []
  }
 ],
 "metadata": {
  "kernelspec": {
   "display_name": "py38",
   "language": "python",
   "name": "py38"
  },
  "language_info": {
   "codemirror_mode": {
    "name": "ipython",
    "version": 3
   },
   "file_extension": ".py",
   "mimetype": "text/x-python",
   "name": "python",
   "nbconvert_exporter": "python",
   "pygments_lexer": "ipython3",
   "version": "3.8.13"
  }
 },
 "nbformat": 4,
 "nbformat_minor": 5
}
